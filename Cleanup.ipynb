{
 "cells": [
  {
   "cell_type": "markdown",
   "metadata": {},
   "source": [
    "# Energy Data Cleanup\n",
    "\n",
    "This holds any potentially destructive cleanup -- massaging data to make it fit our expectations.\n",
    "\n",
    "Cleaups include:\n",
    "\n",
    "1. Completely null rows are dropped.\n",
    "2. [in progress] gaps under 5 minutes are linearly interpolated"
   ]
  },
  {
   "cell_type": "code",
   "execution_count": 120,
   "metadata": {},
   "outputs": [],
   "source": [
    "# Preliminary setup\n",
    "import pandas as pd\n",
    "import numpy as np\n",
    "import zipfile\n",
    "import os\n",
    "import matplotlib.pyplot as plt"
   ]
  },
  {
   "cell_type": "code",
   "execution_count": 121,
   "metadata": {},
   "outputs": [],
   "source": [
    "df = pd.read_pickle('alldata.pickle')"
   ]
  },
  {
   "cell_type": "code",
   "execution_count": 122,
   "metadata": {},
   "outputs": [],
   "source": [
    "# Localize index\n",
    "d = df.tz_convert('Europe/Paris',copy=False)\n",
    "\n",
    "# Create artificial 'house' column \n",
    "subs = df[['sub1','sub2','sub3']].sum(axis=1)\n",
    "df['house'] = df.active - subs"
   ]
  },
  {
   "cell_type": "code",
   "execution_count": 123,
   "metadata": {},
   "outputs": [],
   "source": [
    "# Interpolate values for all gaps <= 5 minutes\n",
    "idx = df.index.to_series()\n",
    "timedeltas = idx - idx.shift(1) # At each row, find the time since the previous row\n",
    "smallgaps = (timedeltas <= pd.Timedelta('5 minutes')) & (timedeltas > pd.Timedelta('1 minute'))"
   ]
  },
  {
   "cell_type": "code",
   "execution_count": 124,
   "metadata": {},
   "outputs": [],
   "source": [
    "# Deal with gaps\n",
    "inter = df.interpolate(method='time',limit=5)\n",
    "\n",
    "# Remove rows that still have NaN\n",
    "df.dropna(how='all',inplace=True)"
   ]
  },
  {
   "cell_type": "code",
   "execution_count": 125,
   "metadata": {},
   "outputs": [],
   "source": [
    "df.to_pickle(\"alldata_clean.pickle\")"
   ]
  }
 ],
 "metadata": {
  "kernelspec": {
   "display_name": "Python 3",
   "language": "python",
   "name": "python3"
  },
  "language_info": {
   "codemirror_mode": {
    "name": "ipython",
    "version": 3
   },
   "file_extension": ".py",
   "mimetype": "text/x-python",
   "name": "python",
   "nbconvert_exporter": "python",
   "pygments_lexer": "ipython3",
   "version": "3.6.4"
  }
 },
 "nbformat": 4,
 "nbformat_minor": 2
}
