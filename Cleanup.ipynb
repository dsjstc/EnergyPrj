{
 "cells": [
  {
   "cell_type": "markdown",
   "metadata": {},
   "source": [
    "# Energy Data Cleanup\n",
    "\n",
    "This holds any potentially destructive cleanup -- massaging data to make it fit our expectations.\n",
    "\n",
    "Cleaups include:\n",
    "\n",
    "1. Completely null rows are dropped."
   ]
  },
  {
   "cell_type": "code",
   "execution_count": 68,
   "metadata": {},
   "outputs": [],
   "source": [
    "# Preliminary setup\n",
    "import pandas as pd\n",
    "import zipfile\n",
    "import os\n",
    "import matplotlib.pyplot as plt"
   ]
  },
  {
   "cell_type": "code",
   "execution_count": 69,
   "metadata": {},
   "outputs": [],
   "source": [
    "df = pd.read_pickle('alldata.pickle')"
   ]
  },
  {
   "cell_type": "code",
   "execution_count": 70,
   "metadata": {},
   "outputs": [],
   "source": [
    "# Remove rows with NaN\n",
    "df.dropna(how='all',inplace=True)\n",
    "\n",
    "# Localize index\n",
    "df.tz_localize(tz='UTC',copy=False,ambiguous='infer')\n",
    "d = df.tz_convert(tz='Europe/Paris',copy=False)\n",
    "\n",
    "# Create artificial 'house' column \n",
    "subs = df[['sub1','sub2','sub3']].sum(axis=1)\n",
    "df['house'] = df.active - subs"
   ]
  },
  {
   "cell_type": "code",
   "execution_count": 71,
   "metadata": {},
   "outputs": [],
   "source": [
    "df.to_pickle(\"alldata_clean.pickle\")"
   ]
  },
  {
   "cell_type": "code",
   "execution_count": null,
   "metadata": {},
   "outputs": [],
   "source": []
  }
 ],
 "metadata": {
  "kernelspec": {
   "display_name": "Python 3",
   "language": "python",
   "name": "python3"
  },
  "language_info": {
   "codemirror_mode": {
    "name": "ipython",
    "version": 3
   },
   "file_extension": ".py",
   "mimetype": "text/x-python",
   "name": "python",
   "nbconvert_exporter": "python",
   "pygments_lexer": "ipython3",
   "version": "3.6.4"
  }
 },
 "nbformat": 4,
 "nbformat_minor": 2
}
