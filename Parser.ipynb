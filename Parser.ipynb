{
 "cells": [
  {
   "cell_type": "markdown",
   "metadata": {},
   "source": [
    "# Energy Data Parser\n",
    "- Gets the energy data into a dataframe ready for analytics\n",
    "- Does not perform any analysis or non-reversible mods\n",
    "\n",
    "### Todo\n",
    "- Convert missing cells (?) to NaN\n",
    "- ~~Investigate NaT indices -- fix if possible~~\n",
    "    - Times are reported in DD/MM/YYYY format, and are strictly reported every minute over the entire dataset"
   ]
  },
  {
   "cell_type": "code",
   "execution_count": 1,
   "metadata": {},
   "outputs": [],
   "source": [
    "# Preliminary setup\n",
    "import pandas as pd\n",
    "import zipfile\n",
    "import os\n",
    "import numpy as np\n",
    "\n",
    "dataname = 'household_power_consumption'\n",
    "# There are c. 2.e6 rows in this file.\n",
    "#nskiprows = int(1.1e5)\n",
    "nskiprows = 0\n",
    "#readrows = int(1.e5)\n",
    "readrows = None # Comment out for smaller test load."
   ]
  },
  {
   "cell_type": "code",
   "execution_count": 2,
   "metadata": {},
   "outputs": [],
   "source": [
    "# Extract zip if necessary\n",
    "if not os.path.isfile(dataname + '.txt'):\n",
    "    zip_ref = zipfile.ZipFile('src/' + dataname +'.zip', 'r')\n",
    "    zip_ref.extractall('.')\n",
    "    zip_ref.close()"
   ]
  },
  {
   "cell_type": "code",
   "execution_count": 3,
   "metadata": {},
   "outputs": [],
   "source": [
    "# Import into dataframe\n",
    "csv_labels = ['Date','Time','Global_active_power','Global_reactive_power','Voltage','Global_intensity','Sub_metering_1','Sub_metering_2','Sub_metering_3']\n",
    "namelist = ['date','time','active','reactive','volts','amps','sub1','sub2','sub3']\n",
    "lowmem=not(nskiprows == 0 or readrows is None)\n",
    "\n",
    "df = pd.read_csv(dataname + '.txt'\n",
    "                ,delimiter=';'\n",
    "                ,nrows=readrows\n",
    "                ,skiprows=nskiprows\n",
    "                ,header=0\n",
    "                ,names=namelist\n",
    "                ,parse_dates=[['date', 'time']]\n",
    "                ,dayfirst=True\n",
    "                ,low_memory=lowmem\n",
    "                ,na_values='?'\n",
    "                #,index_col='date_time'\n",
    "                )"
   ]
  },
  {
   "cell_type": "code",
   "execution_count": 4,
   "metadata": {},
   "outputs": [],
   "source": [
    "#df.replace('?',np.NaN,inplace=True)"
   ]
  },
  {
   "cell_type": "code",
   "execution_count": 5,
   "metadata": {
    "scrolled": true
   },
   "outputs": [],
   "source": [
    "# Non-destructive formatting and unit matching\n",
    "\n",
    "#1. Record the file line number of the row, and reindex on new datetime \n",
    "# df['rowno'] = df.index + 2 + nskiprows\n",
    "df.set_index('date_time',inplace=True,drop=True)\n",
    "df.index.rename('dtime',inplace=True)"
   ]
  },
  {
   "cell_type": "code",
   "execution_count": 8,
   "metadata": {},
   "outputs": [],
   "source": [
    "# Subs 1,2,3 are in Wh/min -- match with active power (kW) by multiplying by 60/1000\n",
    "#df = pd.DataFrame(df2)\n",
    "df['sub1'] = df.sub1*60/1000\n",
    "df['sub2'] = df.sub2*60/1000\n",
    "df['sub3'] = df.sub2*60/1000"
   ]
  },
  {
   "cell_type": "code",
   "execution_count": 9,
   "metadata": {},
   "outputs": [],
   "source": [
    "# Store it for later cleanup\n",
    "df.to_pickle(\"alldata.pickle\")"
   ]
  },
  {
   "cell_type": "code",
   "execution_count": null,
   "metadata": {},
   "outputs": [],
   "source": []
  }
 ],
 "metadata": {
  "kernelspec": {
   "display_name": "Python 3",
   "language": "python",
   "name": "python3"
  },
  "language_info": {
   "codemirror_mode": {
    "name": "ipython",
    "version": 3
   },
   "file_extension": ".py",
   "mimetype": "text/x-python",
   "name": "python",
   "nbconvert_exporter": "python",
   "pygments_lexer": "ipython3",
   "version": "3.6.4"
  }
 },
 "nbformat": 4,
 "nbformat_minor": 2
}
